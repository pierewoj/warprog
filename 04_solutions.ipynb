{
 "cells": [
  {
   "cell_type": "markdown",
   "metadata": {},
   "source": [
    "## Słowniki\n",
    "https://www.tutorialspoint.com/python/python_dictionary.htm"
   ]
  },
  {
   "cell_type": "code",
   "execution_count": null,
   "metadata": {},
   "outputs": [],
   "source": [
    "ceny = {\n",
    "    'pizza' : 50,\n",
    "    'hot-dog' : 10,\n",
    "    'spaghetti' : 5\n",
    "}\n",
    "print(ceny)\n",
    "print(ceny['hot-dog'])"
   ]
  },
  {
   "cell_type": "code",
   "execution_count": null,
   "metadata": {},
   "outputs": [],
   "source": [
    "ceny = {\n",
    "    'pizza' : 50,\n",
    "    'hot-dog' : 10,\n",
    "    'spaghetti' : 5\n",
    "}\n",
    "ceny['hot-dog'] = 33 # zmiana\n",
    "ceny['cola'] = 2 # nowy element\n",
    "print(ceny['hot-dog'])\n",
    "print(ceny['cola'])\n",
    "print(ceny)"
   ]
  },
  {
   "cell_type": "code",
   "execution_count": null,
   "metadata": {},
   "outputs": [],
   "source": [
    "ceny = {\n",
    "    'cola' : 50,\n",
    "    'pepsi' : 10,\n",
    "}\n",
    "print(ceny)\n",
    "del ceny['pepsi']\n",
    "print(ceny)"
   ]
  },
  {
   "cell_type": "code",
   "execution_count": null,
   "metadata": {},
   "outputs": [],
   "source": [
    "s = {\n",
    "    'k1' : 'w1',\n",
    "    'k2' : 'w2',\n",
    "    'k3' : 'w3',\n",
    "}\n",
    "\n",
    "for (key,value) in s.items():\n",
    "    print(key + ' ' + value)\n",
    "    \n",
    "for value in s.values():\n",
    "    print(value)\n",
    "    \n",
    "for key in s.keys():\n",
    "    print(key)"
   ]
  },
  {
   "cell_type": "code",
   "execution_count": null,
   "metadata": {},
   "outputs": [],
   "source": [
    "ceny = {\n",
    "    'cola' : 50,\n",
    "    'pepsi' : 10,\n",
    "}\n",
    "\n",
    "a = ceny['sprite']\n",
    "# ups!"
   ]
  },
  {
   "cell_type": "code",
   "execution_count": null,
   "metadata": {},
   "outputs": [],
   "source": [
    "ceny = {\n",
    "    'cola' : 50,\n",
    "    'pepsi' : 10,\n",
    "}\n",
    "\n",
    "a = ceny.get('sprite')\n",
    "print(a)\n",
    "if a == None:\n",
    "    print('Nie ma tego elementu w słowniku')\n",
    "else:\n",
    "    print(a)"
   ]
  },
  {
   "cell_type": "markdown",
   "metadata": {},
   "source": [
    "## Wyjątki"
   ]
  },
  {
   "cell_type": "code",
   "execution_count": null,
   "metadata": {},
   "outputs": [],
   "source": [
    "# ZeroDivisionError\n",
    "1 / 0"
   ]
  },
  {
   "cell_type": "code",
   "execution_count": null,
   "metadata": {},
   "outputs": [],
   "source": [
    "# KeyError\n",
    "a = { }\n",
    "a['1']"
   ]
  },
  {
   "cell_type": "code",
   "execution_count": null,
   "metadata": {},
   "outputs": [],
   "source": [
    "# AttributeError\n",
    "l = []\n",
    "l.dodaj(3)"
   ]
  },
  {
   "cell_type": "code",
   "execution_count": null,
   "metadata": {},
   "outputs": [],
   "source": [
    "try:\n",
    "    a = 1 / 0\n",
    "    print('ok')\n",
    "except:\n",
    "    print('oho...')"
   ]
  },
  {
   "cell_type": "code",
   "execution_count": null,
   "metadata": {},
   "outputs": [],
   "source": [
    "try:\n",
    "    a = 1 / 0\n",
    "    print('ok')\n",
    "except ZeroDivisionError as e:\n",
    "    print(e)\n",
    "\n",
    "print(':)')"
   ]
  },
  {
   "cell_type": "code",
   "execution_count": null,
   "metadata": {},
   "outputs": [],
   "source": [
    "try:\n",
    "    a = 1 / 2\n",
    "    print('ok')\n",
    "except ZeroDivisionError as e:\n",
    "    print(e)\n",
    "\n",
    "print(':)')"
   ]
  },
  {
   "cell_type": "code",
   "execution_count": null,
   "metadata": {
    "scrolled": true
   },
   "outputs": [],
   "source": [
    "try:\n",
    "    a = 1 / 0\n",
    "    print('ok')\n",
    "except KeyError as e:\n",
    "    print(e)\n",
    "\n",
    "print(':)')"
   ]
  },
  {
   "cell_type": "code",
   "execution_count": null,
   "metadata": {},
   "outputs": [],
   "source": [
    "try:\n",
    "    raise ZeroDivisionError('yolo')\n",
    "except ZeroDivisionError as e:\n",
    "    print(e)\n",
    "\n",
    "print(':)')"
   ]
  },
  {
   "cell_type": "code",
   "execution_count": null,
   "metadata": {},
   "outputs": [],
   "source": [
    "class MyException(Exception):\n",
    "    pass\n",
    "\n",
    "try:\n",
    "    raise MyException('lala')\n",
    "except MyException as e:\n",
    "    print(e)"
   ]
  },
  {
   "cell_type": "markdown",
   "metadata": {},
   "source": [
    "## Zadania"
   ]
  },
  {
   "cell_type": "code",
   "execution_count": 18,
   "metadata": {},
   "outputs": [
    {
     "name": "stdout",
     "output_type": "stream",
     "text": [
      "{0: 'aa', 1: 'bb', 2: 'cc', 3: 'dd'}\n"
     ]
    }
   ],
   "source": [
    "# kopiowanie elementów ze słownika b do słownika a\n",
    "a = {\n",
    "    0 : 'aa',\n",
    "    1 : 'bb',\n",
    "}\n",
    "b = {\n",
    "    2 : 'cc',\n",
    "    3 : 'dd',\n",
    "}\n",
    "\n",
    "# tutaj napisz program który doda wszystkie elementy słownika b do słownika a\n",
    "for (k,v) in b.items():\n",
    "    a[k] = v\n",
    "print(a) # prawidłowy wynik to {0: 'aa', 1: 'bb', 2: 'cc', 3: 'dd'}"
   ]
  },
  {
   "cell_type": "code",
   "execution_count": 24,
   "metadata": {},
   "outputs": [
    {
     "name": "stdout",
     "output_type": "stream",
     "text": [
      "5.0\n"
     ]
    }
   ],
   "source": [
    "# policz średnią arytmetyczną wszystkich liczb z map\n",
    "map = [[1,2,3],\n",
    "      [4,5,6],\n",
    "      [7,8,9]]\n",
    "\n",
    "sum = 0\n",
    "n = 0\n",
    "for l in map:\n",
    "    for el in l:\n",
    "        sum = sum + el\n",
    "        n = n + 1\n",
    "print(sum/n)"
   ]
  },
  {
   "cell_type": "code",
   "execution_count": 20,
   "metadata": {},
   "outputs": [
    {
     "name": "stdout",
     "output_type": "stream",
     "text": [
      "1 2 3 \n",
      "4 5 6 \n",
      "7 8 9 \n"
     ]
    }
   ],
   "source": [
    "# wypisz listę list w postaci\n",
    "# 1 2 3\n",
    "# 4 5 6\n",
    "# 7 8 9\n",
    "\n",
    "map = [[1,2,3],\n",
    "      [4,5,6],\n",
    "      [7,8,9]]\n",
    "\n",
    "for l in map:\n",
    "    for el in l:\n",
    "        print(el, end=' ')\n",
    "    print('')"
   ]
  },
  {
   "cell_type": "code",
   "execution_count": 23,
   "metadata": {},
   "outputs": [
    {
     "name": "stdout",
     "output_type": "stream",
     "text": [
      "[[0, 0, 0, 0, 0, 0, 0, 0, 0, 0], [0, 0, 0, 0, 0, 0, 0, 0, 0, 0], [0, 0, 0, 0, 0, 0, 0, 0, 0, 0], [0, 0, 0, 0, 0, 0, 0, 0, 0, 0], [0, 0, 0, 0, 0, 0, 0, 0, 0, 0]]\n"
     ]
    }
   ],
   "source": [
    "# stwórz listę list o wymiarach [a][b] wypełnioną zerami i ją wypisz\n",
    "a = 5\n",
    "b = 10\n",
    "map = []\n",
    "for x in range(a):\n",
    "    map.append(b*[0])\n",
    "\n",
    "print(map)"
   ]
  },
  {
   "cell_type": "markdown",
   "metadata": {},
   "source": [
    "## Pobierenie stanu gry\n",
    "https://4eynt6qa83.execute-api.eu-central-1.amazonaws.com/prod/game\n",
    "\n",
    "https://github.com/pierewoj/snake\n",
    "\n",
    "Być może będzie potrzebne:\n",
    "```\n",
    "pip install requests\n",
    "```"
   ]
  },
  {
   "cell_type": "code",
   "execution_count": 16,
   "metadata": {},
   "outputs": [
    {
     "name": "stdout",
     "output_type": "stream",
     "text": [
      "{'statusCode': 200, 'body': {'status': 'LIVE', 'snakes': [{'player_id': 'player1', 'fields': [{'y': 12, 'x': 0}, {'y': 11, 'x': 0}, {'y': 10, 'x': 0}, {'y': 9, 'x': 0}, {'y': 8, 'x': 0}, {'y': 7, 'x': 0}, {'y': 6, 'x': 0}, {'y': 5, 'x': 0}, {'y': 4, 'x': 0}, {'y': 3, 'x': 0}, {'y': 2, 'x': 0}, {'y': 1, 'x': 0}, {'y': 0, 'x': 0}, {'y': 19, 'x': 0}], 'direction': 'N', 'is_alive': True, 'round_died': -1}, {'player_id': 'player2', 'fields': [{'y': 12, 'x': 2}, {'y': 11, 'x': 2}, {'y': 10, 'x': 2}, {'y': 9, 'x': 2}, {'y': 8, 'x': 2}, {'y': 7, 'x': 2}, {'y': 6, 'x': 2}, {'y': 5, 'x': 2}, {'y': 4, 'x': 2}, {'y': 3, 'x': 2}, {'y': 2, 'x': 2}, {'y': 1, 'x': 2}, {'y': 0, 'x': 2}, {'y': 19, 'x': 2}], 'direction': 'N', 'is_alive': True, 'round_died': -1}, {'player_id': 'player3', 'fields': [{'y': 12, 'x': 4}, {'y': 11, 'x': 4}, {'y': 10, 'x': 4}, {'y': 9, 'x': 4}, {'y': 8, 'x': 4}, {'y': 7, 'x': 4}, {'y': 6, 'x': 4}, {'y': 5, 'x': 4}, {'y': 4, 'x': 4}, {'y': 3, 'x': 4}, {'y': 2, 'x': 4}, {'y': 1, 'x': 4}, {'y': 0, 'x': 4}, {'y': 19, 'x': 4}], 'direction': 'N', 'is_alive': True, 'round_died': -1}, {'player_id': 'player4', 'fields': [{'y': 12, 'x': 6}, {'y': 11, 'x': 6}, {'y': 10, 'x': 6}, {'y': 9, 'x': 6}, {'y': 8, 'x': 6}, {'y': 7, 'x': 6}, {'y': 6, 'x': 6}, {'y': 5, 'x': 6}, {'y': 4, 'x': 6}, {'y': 3, 'x': 6}, {'y': 2, 'x': 6}, {'y': 1, 'x': 6}, {'y': 0, 'x': 6}, {'y': 19, 'x': 6}], 'direction': 'N', 'is_alive': True, 'round_died': -1}], 'round': 79, 'max_rounds': 120, 'board_height': 20, 'board_width': 20, 'id': '8354774c-19ca-4867-b61e-da1f0934ee03'}}\n"
     ]
    }
   ],
   "source": [
    "import json\n",
    "import requests\n",
    "\n",
    "game_url = 'https://4eynt6qa83.execute-api.eu-central-1.amazonaws.com/prod/game'\n",
    "response = requests.get(game_url)\n",
    "response_data = json.loads(response.text)\n",
    "print(response_data)"
   ]
  },
  {
   "cell_type": "code",
   "execution_count": null,
   "metadata": {},
   "outputs": [],
   "source": [
    "# po wykonaniu komórek zmienne są dostępne w innych komórkach\n",
    "# dlatego tutaj możemy użyć 'game' :) \n",
    "game = response_data['body']\n",
    "print(game['id'])\n",
    "\n",
    "for snake in game['snakes']:\n",
    "    print(snake['player_id'])"
   ]
  },
  {
   "cell_type": "code",
   "execution_count": 25,
   "metadata": {},
   "outputs": [
    {
     "data": {
      "text/plain": [
       "400"
      ]
     },
     "execution_count": 25,
     "metadata": {},
     "output_type": "execute_result"
    }
   ],
   "source": [
    "# zadanie\n",
    "# oblicz ilość pól na mapie (wykorzystaj board_height i board_width)\n",
    "game['board_width'] * game['board_height']"
   ]
  },
  {
   "cell_type": "code",
   "execution_count": 31,
   "metadata": {},
   "outputs": [
    {
     "name": "stdout",
     "output_type": "stream",
     "text": [
      "1 1 1 1 1 1 1 1 1 1 1 1 1 0 0 0 0 0 0 1 \n",
      "0 0 0 0 0 0 0 0 0 0 0 0 0 0 0 0 0 0 0 0 \n",
      "1 1 1 1 1 1 1 1 1 1 1 1 1 0 0 0 0 0 0 1 \n",
      "0 0 0 0 0 0 0 0 0 0 0 0 0 0 0 0 0 0 0 0 \n",
      "1 1 1 1 1 1 1 1 1 1 1 1 1 0 0 0 0 0 0 1 \n",
      "0 0 0 0 0 0 0 0 0 0 0 0 0 0 0 0 0 0 0 0 \n",
      "1 1 1 1 1 1 1 1 1 1 1 1 1 0 0 0 0 0 0 1 \n",
      "0 0 0 0 0 0 0 0 0 0 0 0 0 0 0 0 0 0 0 0 \n",
      "0 0 0 0 0 0 0 0 0 0 0 0 0 0 0 0 0 0 0 0 \n",
      "0 0 0 0 0 0 0 0 0 0 0 0 0 0 0 0 0 0 0 0 \n",
      "0 0 0 0 0 0 0 0 0 0 0 0 0 0 0 0 0 0 0 0 \n",
      "0 0 0 0 0 0 0 0 0 0 0 0 0 0 0 0 0 0 0 0 \n",
      "0 0 0 0 0 0 0 0 0 0 0 0 0 0 0 0 0 0 0 0 \n",
      "0 0 0 0 0 0 0 0 0 0 0 0 0 0 0 0 0 0 0 0 \n",
      "0 0 0 0 0 0 0 0 0 0 0 0 0 0 0 0 0 0 0 0 \n",
      "0 0 0 0 0 0 0 0 0 0 0 0 0 0 0 0 0 0 0 0 \n",
      "0 0 0 0 0 0 0 0 0 0 0 0 0 0 0 0 0 0 0 0 \n",
      "0 0 0 0 0 0 0 0 0 0 0 0 0 0 0 0 0 0 0 0 \n",
      "0 0 0 0 0 0 0 0 0 0 0 0 0 0 0 0 0 0 0 0 \n",
      "0 0 0 0 0 0 0 0 0 0 0 0 0 0 0 0 0 0 0 0 \n"
     ]
    }
   ],
   "source": [
    "# zadanie\n",
    "# wypisz pozycje węży w postaci mapki\n",
    "# podobnej jak w zadaniach wyżej.\n",
    "# miejsce gdzie jest wąż oznacz 1 a gdzie nie ma węża 0\n",
    "# np:\n",
    "# 0 0 0 1 0\n",
    "# 0 0 0 1 0\n",
    "# 0 0 1 1 0\n",
    "# 0 0 1 0 0\n",
    "# 0 0 0 0 0\n",
    "\n",
    "# tworzenie mapy wypełnionej zerami\n",
    "a = game['board_width']\n",
    "b = game['board_height']\n",
    "map = []\n",
    "for x in range(a):\n",
    "    map.append(b*[0])\n",
    "\n",
    "# oznaczanie pól jedynkami\n",
    "for snake in game['snakes']:\n",
    "    for field in snake['fields']:\n",
    "        x = field['x']\n",
    "        y = field['y']\n",
    "        map[x][y] = 1\n",
    "        \n",
    "# mapka jest obrócona tak jakby współrzędne były\n",
    "#  .------> y\n",
    "#  |\n",
    "#  |\n",
    "#  |\n",
    "# \\/  x\n",
    "for l in map:\n",
    "    for el in l:\n",
    "        print(el, end=' ')\n",
    "    print('')"
   ]
  }
 ],
 "metadata": {
  "kernelspec": {
   "display_name": "Python 3",
   "language": "python",
   "name": "python3"
  },
  "language_info": {
   "codemirror_mode": {
    "name": "ipython",
    "version": 3
   },
   "file_extension": ".py",
   "mimetype": "text/x-python",
   "name": "python",
   "nbconvert_exporter": "python",
   "pygments_lexer": "ipython3",
   "version": "3.6.4"
  }
 },
 "nbformat": 4,
 "nbformat_minor": 2
}
