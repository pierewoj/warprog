{
 "cells": [
  {
   "cell_type": "markdown",
   "metadata": {},
   "source": [
    "# Zadania\n",
    "Do każdego zadania dołączyłem zestaw testów, które pomogą Wam upewnić się, że wasze rozwiązanie jest poprawne."
   ]
  },
  {
   "cell_type": "code",
   "execution_count": 1,
   "metadata": {},
   "outputs": [
    {
     "name": "stderr",
     "output_type": "stream",
     "text": [
      ".....\n",
      "----------------------------------------------------------------------\n",
      "Ran 5 tests in 0.008s\n",
      "\n",
      "OK\n"
     ]
    }
   ],
   "source": [
    "# Znajdowanie najwiekszego elementu\n",
    "\n",
    "import unittest\n",
    "\n",
    "# min_lst powinno zwrocic najwiekszy element w liscie lst\n",
    "# lst zawiera jedynie dodatnie liczby calkowite\n",
    "# w przypadku pustej listy min_lst powinno zwrocic -1\n",
    "def max_list(lst):\n",
    "    res = -1\n",
    "    for el in lst:\n",
    "        if el > res:\n",
    "            res = el\n",
    "    return res\n",
    "\n",
    "# testy\n",
    "class TestMinList(unittest.TestCase):\n",
    "    def case(self, lst, res):\n",
    "        self.assertEqual(max_list(lst), res)\n",
    "    \n",
    "    def test_empty(self):\n",
    "        self.case([], -1)\n",
    "    \n",
    "    def test_single(self):\n",
    "        self.case([1], 1)\n",
    "        \n",
    "    def test_3el(self):\n",
    "        self.case([3,4,1], 4)\n",
    "        \n",
    "    def test_allsame(self):\n",
    "        self.case([3,3,3], 3)\n",
    "        \n",
    "    def test_ascending(self):\n",
    "        self.case([1,2,3,4,5,6], 6)\n",
    "        \n",
    "if __name__ == \"__main__\":\n",
    "    suite = unittest.defaultTestLoader.loadTestsFromTestCase(TestMinList)\n",
    "    unittest.TextTestRunner().run(suite)"
   ]
  },
  {
   "cell_type": "code",
   "execution_count": 2,
   "metadata": {},
   "outputs": [
    {
     "name": "stderr",
     "output_type": "stream",
     "text": [
      "......\n",
      "----------------------------------------------------------------------\n",
      "Ran 6 tests in 0.012s\n",
      "\n",
      "OK\n"
     ]
    }
   ],
   "source": [
    "# Test na pierwszość\n",
    "\n",
    "import unittest # biblioteka do testów jednostkowych \n",
    "\n",
    "# zwraca True wtw gdy x jest liczbą pierwszą\n",
    "def is_prime(x):\n",
    "    res = True\n",
    "    for i in range(2, x):\n",
    "        if x % i == 0:\n",
    "            return False\n",
    "    return True\n",
    "\n",
    "# testy\n",
    "class TestIsPrime(unittest.TestCase):\n",
    "    def case(self, num, res):\n",
    "        self.assertEqual(is_prime(num), res)\n",
    "    \n",
    "    def test_2(self):\n",
    "        self.case(2, True)\n",
    "    \n",
    "    def test_7(self):\n",
    "        self.case(7, True)\n",
    "        \n",
    "    def test_4(self):\n",
    "        self.case(4, False)\n",
    "        \n",
    "    def test_169(self):\n",
    "        self.case(169, False)\n",
    "        \n",
    "    def test_29(self):\n",
    "        self.case(29, True)\n",
    "    \n",
    "    def test_528(self):\n",
    "        self.case(528, False)\n",
    "        \n",
    "if __name__ == \"__main__\":\n",
    "    suite = unittest.defaultTestLoader.loadTestsFromTestCase(TestIsPrime)\n",
    "    unittest.TextTestRunner().run(suite)"
   ]
  },
  {
   "cell_type": "code",
   "execution_count": 1,
   "metadata": {},
   "outputs": [
    {
     "name": "stderr",
     "output_type": "stream",
     "text": [
      "......\n",
      "----------------------------------------------------------------------\n",
      "Ran 6 tests in 0.006s\n",
      "\n",
      "OK\n"
     ]
    }
   ],
   "source": [
    "# Palindrom\n",
    "\n",
    "import unittest # biblioteka do testów jednostkowych \n",
    "\n",
    "# zwraca True wtw gdy word jest palindromem\n",
    "def is_palindrom(word):\n",
    "    #chars = list(word)\n",
    "    #for (i,ch) in enumerate(chars):\n",
    "     #   if ch != chars[len(chars) - i - 1]:\n",
    "      #      return False\n",
    "    #return True\n",
    "    n = len(word)\n",
    "    for i in range(0,n):\n",
    "        if word[i] != word[n-1-i]:\n",
    "            return False\n",
    "    return True\n",
    "\n",
    "\n",
    "# testy\n",
    "class TestIsPalindrom(unittest.TestCase):\n",
    "    def case(self, word, res):\n",
    "        self.assertEqual(is_palindrom(word), res)\n",
    "    \n",
    "    def test_kajak(self):\n",
    "        self.case('kajak', True)\n",
    "    \n",
    "    def test_abaaba(self):\n",
    "        self.case('abaaba', True)\n",
    "        \n",
    "    def test_empty(self):\n",
    "        self.case('', True)\n",
    "        \n",
    "    def test_a(self):\n",
    "        self.case('a', True)\n",
    "        \n",
    "    def test_mama(self):\n",
    "        self.case('mama', False)\n",
    "    \n",
    "    def test_dwnauosjdwa(self):\n",
    "        self.case('dwnauosjdwa', False)\n",
    "        \n",
    "if __name__ == \"__main__\":\n",
    "    suite = unittest.defaultTestLoader.loadTestsFromTestCase(TestIsPalindrom)\n",
    "    unittest.TextTestRunner().run(suite)"
   ]
  },
  {
   "cell_type": "code",
   "execution_count": 4,
   "metadata": {},
   "outputs": [
    {
     "name": "stderr",
     "output_type": "stream",
     "text": [
      "......\n",
      "----------------------------------------------------------------------\n",
      "Ran 6 tests in 0.271s\n",
      "\n",
      "OK\n"
     ]
    }
   ],
   "source": [
    "# Sortowanie ograniczonych liczb\n",
    "\n",
    "import unittest # biblioteka do testów jednostkowych \n",
    "import random # biblioteka umożliwiająca losowanie\n",
    "\n",
    "max = 100\n",
    "\n",
    "# a - lista składająca się z elementów o wartościach z przedziału [0,max)\n",
    "# Zwróć listę składającą się z elementów a ustawionych w kolejności niemalejącej\n",
    "#\n",
    "# NIE UŻYWAJ GOTOWYCH FUNKCJI BIBLIOTECZNYCH DO SORTOWANIA (np sorted)\n",
    "#\n",
    "# przykład\n",
    "# a =  [0, 50, 10, 7, 0, 99]\n",
    "# out: [0, 0, 7, 10, 50, 99]\n",
    "def sort_bounded(a):\n",
    "    occurances = [0]*max\n",
    "    for el in a:\n",
    "        occurances[el] += 1;\n",
    "    res = []\n",
    "    for i,o in enumerate(occurances):\n",
    "        for x in range(o):\n",
    "            res.append(i)\n",
    "    return res\n",
    "\n",
    "# testy\n",
    "class TestSortBounded(unittest.TestCase):\n",
    "    def case(self, list):\n",
    "        correct = sorted(list)\n",
    "        actual = sort_bounded(list[:])\n",
    "        self.assertListEqual(actual, correct)\n",
    "        \n",
    "    def test_same_list(self):\n",
    "        self.case([1,2])\n",
    "    \n",
    "    def test_empty_list(self):\n",
    "        self.case([])\n",
    "        \n",
    "    def test_small_list(self):\n",
    "        self.case([10,3])\n",
    "        \n",
    "    def test_small_list_with_repeats(self):\n",
    "        self.case([3, 10, 3, 3])\n",
    "        \n",
    "    def test_big_list(self):\n",
    "        self.case([0, 50, 10, 7, 0, 99])\n",
    "    \n",
    "    def test_big_list2(self):\n",
    "        self.case([5]*1000000)\n",
    "        \n",
    "if __name__ == \"__main__\":\n",
    "    suite = unittest.defaultTestLoader.loadTestsFromTestCase(TestSortBounded)\n",
    "    unittest.TextTestRunner().run(suite)"
   ]
  }
 ],
 "metadata": {
  "kernelspec": {
   "display_name": "Python 3",
   "language": "python",
   "name": "python3"
  },
  "language_info": {
   "codemirror_mode": {
    "name": "ipython",
    "version": 3
   },
   "file_extension": ".py",
   "mimetype": "text/x-python",
   "name": "python",
   "nbconvert_exporter": "python",
   "pygments_lexer": "ipython3",
   "version": "3.6.4"
  }
 },
 "nbformat": 4,
 "nbformat_minor": 2
}
