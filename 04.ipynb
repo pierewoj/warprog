{
 "cells": [
  {
   "cell_type": "markdown",
   "metadata": {},
   "source": [
    "## Słowniki\n",
    "https://www.tutorialspoint.com/python/python_dictionary.htm"
   ]
  },
  {
   "cell_type": "code",
   "execution_count": null,
   "metadata": {},
   "outputs": [],
   "source": [
    "ceny = {\n",
    "    'pizza' : 50,\n",
    "    'hot-dog' : 10,\n",
    "    'spaghetti' : 5\n",
    "}\n",
    "print(ceny)\n",
    "print(ceny['hot-dog'])"
   ]
  },
  {
   "cell_type": "code",
   "execution_count": null,
   "metadata": {},
   "outputs": [],
   "source": [
    "ceny = {\n",
    "    'pizza' : 50,\n",
    "    'hot-dog' : 10,\n",
    "    'spaghetti' : 5\n",
    "}\n",
    "ceny['hot-dog'] = 33 # zmiana\n",
    "ceny['cola'] = 2 # nowy element\n",
    "print(ceny['hot-dog'])\n",
    "print(ceny['cola'])\n",
    "print(ceny)"
   ]
  },
  {
   "cell_type": "code",
   "execution_count": null,
   "metadata": {},
   "outputs": [],
   "source": [
    "ceny = {\n",
    "    'cola' : 50,\n",
    "    'pepsi' : 10,\n",
    "}\n",
    "print(ceny)\n",
    "del ceny['pepsi']\n",
    "print(ceny)"
   ]
  },
  {
   "cell_type": "code",
   "execution_count": null,
   "metadata": {},
   "outputs": [],
   "source": [
    "s = {\n",
    "    'k1' : 'w1',\n",
    "    'k2' : 'w2',\n",
    "    'k3' : 'w3',\n",
    "}\n",
    "\n",
    "for (key,value) in s.items():\n",
    "    print(key + ' ' + value)\n",
    "    \n",
    "for value in s.values():\n",
    "    print(value)\n",
    "    \n",
    "for key in s.keys():\n",
    "    print(key)"
   ]
  },
  {
   "cell_type": "code",
   "execution_count": null,
   "metadata": {},
   "outputs": [],
   "source": [
    "ceny = {\n",
    "    'cola' : 50,\n",
    "    'pepsi' : 10,\n",
    "}\n",
    "\n",
    "a = ceny['sprite']\n",
    "# ups!"
   ]
  },
  {
   "cell_type": "code",
   "execution_count": null,
   "metadata": {},
   "outputs": [],
   "source": [
    "ceny = {\n",
    "    'cola' : 50,\n",
    "    'pepsi' : 10,\n",
    "}\n",
    "\n",
    "a = ceny.get('sprite')\n",
    "print(a)\n",
    "if a == None:\n",
    "    print('Nie ma tego elementu w słowniku')\n",
    "else:\n",
    "    print(a)"
   ]
  },
  {
   "cell_type": "markdown",
   "metadata": {},
   "source": [
    "## Wyjątki"
   ]
  },
  {
   "cell_type": "code",
   "execution_count": null,
   "metadata": {},
   "outputs": [],
   "source": [
    "# ZeroDivisionError\n",
    "1 / 0"
   ]
  },
  {
   "cell_type": "code",
   "execution_count": null,
   "metadata": {},
   "outputs": [],
   "source": [
    "# KeyError\n",
    "a = { }\n",
    "a['1']"
   ]
  },
  {
   "cell_type": "code",
   "execution_count": null,
   "metadata": {},
   "outputs": [],
   "source": [
    "# AttributeError\n",
    "l = []\n",
    "l.dodaj(3)"
   ]
  },
  {
   "cell_type": "code",
   "execution_count": null,
   "metadata": {},
   "outputs": [],
   "source": [
    "try:\n",
    "    a = 1 / 0\n",
    "    print('ok')\n",
    "except:\n",
    "    print('oho...')"
   ]
  },
  {
   "cell_type": "code",
   "execution_count": null,
   "metadata": {},
   "outputs": [],
   "source": [
    "try:\n",
    "    a = 1 / 0\n",
    "    print('ok')\n",
    "except ZeroDivisionError as e:\n",
    "    print(e)\n",
    "\n",
    "print(':)')"
   ]
  },
  {
   "cell_type": "code",
   "execution_count": null,
   "metadata": {},
   "outputs": [],
   "source": [
    "try:\n",
    "    a = 1 / 2\n",
    "    print('ok')\n",
    "except ZeroDivisionError as e:\n",
    "    print(e)\n",
    "\n",
    "print(':)')"
   ]
  },
  {
   "cell_type": "code",
   "execution_count": null,
   "metadata": {
    "scrolled": true
   },
   "outputs": [],
   "source": [
    "try:\n",
    "    a = 1 / 0\n",
    "    print('ok')\n",
    "except KeyError as e:\n",
    "    print(e)\n",
    "\n",
    "print(':)')"
   ]
  },
  {
   "cell_type": "code",
   "execution_count": null,
   "metadata": {},
   "outputs": [],
   "source": [
    "try:\n",
    "    raise ZeroDivisionError('yolo')\n",
    "except ZeroDivisionError as e:\n",
    "    print(e)\n",
    "\n",
    "print(':)')"
   ]
  },
  {
   "cell_type": "code",
   "execution_count": null,
   "metadata": {},
   "outputs": [],
   "source": [
    "class MyException(Exception):\n",
    "    pass\n",
    "\n",
    "try:\n",
    "    raise MyException('lala')\n",
    "except MyException as e:\n",
    "    print(e)"
   ]
  },
  {
   "cell_type": "markdown",
   "metadata": {},
   "source": [
    "## Zadania"
   ]
  },
  {
   "cell_type": "code",
   "execution_count": null,
   "metadata": {},
   "outputs": [],
   "source": [
    "# kopiowanie elementów ze słownika b do słownika a\n",
    "a = {\n",
    "    0 : 'aa',\n",
    "    1 : 'bb',\n",
    "}\n",
    "b = {\n",
    "    2 : 'cc',\n",
    "    3 : 'dd',\n",
    "}\n",
    "\n",
    "# tutaj napisz program który doda wszystkie elementy słownika b do słownika a\n",
    "\n",
    "print(a) # prawidłowy wynik to {0: 'aa', 1: 'bb', 2: 'cc', 3: 'dd'}"
   ]
  },
  {
   "cell_type": "code",
   "execution_count": null,
   "metadata": {},
   "outputs": [],
   "source": [
    "# policz średnią arytmetyczną wszystkich liczb z map\n",
    "map = [[1,2,3],\n",
    "      [4,5,6],\n",
    "      [7,8,9]]"
   ]
  },
  {
   "cell_type": "code",
   "execution_count": null,
   "metadata": {},
   "outputs": [],
   "source": [
    "# wypisz listę list w postaci\n",
    "# 1 2 3\n",
    "# 4 5 6\n",
    "# 7 8 9\n",
    "\n",
    "map = [[1,2,3],\n",
    "      [4,5,6],\n",
    "      [7,8,9]]"
   ]
  },
  {
   "cell_type": "code",
   "execution_count": null,
   "metadata": {},
   "outputs": [],
   "source": [
    "# stwórz listę list o wymiarach [a][b] wypełnioną zerami i ją wypisz\n",
    "a = 5\n",
    "b = 10\n",
    "map = []\n",
    "print(map)"
   ]
  },
  {
   "cell_type": "markdown",
   "metadata": {},
   "source": [
    "## Pobierenie stanu gry\n",
    "https://4eynt6qa83.execute-api.eu-central-1.amazonaws.com/prod/game\n",
    "\n",
    "https://github.com/pierewoj/snake\n",
    "\n",
    "Być może będzie potrzebne:\n",
    "```\n",
    "pip install requests\n",
    "```"
   ]
  },
  {
   "cell_type": "code",
   "execution_count": null,
   "metadata": {},
   "outputs": [],
   "source": [
    "import json\n",
    "import requests\n",
    "\n",
    "game_url = 'https://4eynt6qa83.execute-api.eu-central-1.amazonaws.com/prod/game'\n",
    "response = requests.get(game_url)\n",
    "response_data = json.loads(response.text)\n",
    "print(response_data)"
   ]
  },
  {
   "cell_type": "code",
   "execution_count": null,
   "metadata": {},
   "outputs": [],
   "source": [
    "# po wykonaniu komórek zmienne są dostępne w innych komórkach\n",
    "# dlatego tutaj możemy użyć 'game' :) \n",
    "game = response_data['body']\n",
    "print(game['id'])\n",
    "\n",
    "for snake in game['snakes']:\n",
    "    print(snake['player_id'])"
   ]
  },
  {
   "cell_type": "code",
   "execution_count": null,
   "metadata": {},
   "outputs": [],
   "source": [
    "# zadanie\n",
    "# oblicz ilość pól na mapie (wykorzystaj board_height i board_width)"
   ]
  },
  {
   "cell_type": "code",
   "execution_count": null,
   "metadata": {},
   "outputs": [],
   "source": [
    "# zadanie\n",
    "# wypisz pozycje węży w postaci mapki\n",
    "# podobnej jak w zadaniach wyżej.\n",
    "# miejsce gdzie jest wąż oznacz 1 a gdzie nie ma węża 0\n",
    "# np:\n",
    "# 0 0 0 1 0\n",
    "# 0 0 0 1 0\n",
    "# 0 0 1 1 0\n",
    "# 0 0 1 0 0\n",
    "# 0 0 0 0 0\n",
    "\n"
   ]
  }
 ],
 "metadata": {
  "kernelspec": {
   "display_name": "Python 3",
   "language": "python",
   "name": "python3"
  },
  "language_info": {
   "codemirror_mode": {
    "name": "ipython",
    "version": 3
   },
   "file_extension": ".py",
   "mimetype": "text/x-python",
   "name": "python",
   "nbconvert_exporter": "python",
   "pygments_lexer": "ipython3",
   "version": "3.6.4"
  }
 },
 "nbformat": 4,
 "nbformat_minor": 2
}
