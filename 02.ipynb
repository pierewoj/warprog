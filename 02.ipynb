{
 "cells": [
  {
   "cell_type": "markdown",
   "metadata": {},
   "source": [
    "# Zajęcia nr 2\n",
    "Na poprzednich zajęciach:\n",
    "* liczby\n",
    "* działania na liczbach\n",
    "* logiczny typ danych (True/False)\n",
    "* porównywanie liczb\n",
    "* instrukcje warunkowe (if/else)\n",
    "* dwa zadania: sortowanie dwoch liczb / nierownosc trojkata\n",
    "\n",
    "Na tych zajęciach:\n",
    "* kolejny typ danych - napisy\n",
    "* listy\n",
    "* pętle (for, while)\n",
    "* funckje\n",
    "* zadania (tym razem 4, trochę trudniejsze niż poprzednio)"
   ]
  },
  {
   "cell_type": "markdown",
   "metadata": {},
   "source": [
    "# Napisy (ang. strings)\n",
    "Mamy do dyspozycji jeszcze jeden typ danych: napisy"
   ]
  },
  {
   "cell_type": "code",
   "execution_count": null,
   "metadata": {},
   "outputs": [],
   "source": [
    "a = 'ala'\n",
    "print(a)\n",
    "\n",
    "a = a + ' ma' # możemy dodawać\n",
    "print(a)\n",
    "\n",
    "a = 'bla ' * 10 # możemy mnożyć\n",
    "print(a)\n",
    "\n",
    "# sprawdzanie znaku\n",
    "print(a[2])"
   ]
  },
  {
   "cell_type": "code",
   "execution_count": null,
   "metadata": {},
   "outputs": [],
   "source": [
    "# ale uwaga, stringów w pythonie nie można zmieniać..\n",
    "a = 'ala'\n",
    "a[2] = 'i'\n",
    "\n",
    "# jak to zrobić, dowiecie się kilka komórek niżej"
   ]
  },
  {
   "cell_type": "markdown",
   "metadata": {},
   "source": [
    "# Tworzenie list\n",
    "\n",
    "Zacznijmy od poznania pierwszej struktury danych - list. Lista umożliwia przechowywanie wielu elementów w ustalonej kolejności. "
   ]
  },
  {
   "cell_type": "code",
   "execution_count": null,
   "metadata": {},
   "outputs": [],
   "source": [
    "list1 = [1,2,3,4] # tak tworzymy listę\n",
    "\n",
    "print( list1[0] ) # tak dostajemy się do pierwszego elementu listy, indeksy zaczynają się od 0\n",
    "# to znaczy:\n",
    "# lista     [ 1, 2, 3, 3, 4 ]\n",
    "# nr indeksu  0  1  2  3  4\n",
    "\n",
    "print( list1[2] )\n",
    "\n",
    "print( list1 )"
   ]
  },
  {
   "cell_type": "code",
   "execution_count": null,
   "metadata": {},
   "outputs": [],
   "source": [
    "# lista może zawierać obiekty dowolnego typu - także inne listy\n",
    "# jedna lista może tez zawierać obiekty różnych typów (chociaż nie jest to często spotykane)\n",
    "list1 = [1,2,True,[3,4]]\n",
    "print(list1)\n",
    "\n",
    "# ponieważ list1[3] = [3,4]\n",
    "# to list1[3][1] = [3,4][1] = 4\n",
    "print(list1[3][1]) "
   ]
  },
  {
   "cell_type": "code",
   "execution_count": null,
   "metadata": {},
   "outputs": [],
   "source": [
    "# możemy też zmieniać poszczególne elementy listy\n",
    "a = [10,50,20,10]\n",
    "print(a)\n",
    "a[1] = -1\n",
    "print(a)"
   ]
  },
  {
   "attachments": {
    "image.png": {
     "image/png": "[encoded data removed]"
    }
   },
   "cell_type": "markdown",
   "metadata": {},
   "source": [
    "# Slice notation\n",
    "W Pythonie istnieje łatwy sposób odwoływania się do fragmentów list - slice notatnon:\n",
    "\n",
    "```\n",
    "# https://stackoverflow.com/questions/509211/understanding-pythons-slice-notation\n",
    "a[start:end] # items start through end-1\n",
    "a[start:]    # items start through the rest of the array\n",
    "a[:end]      # items from the beginning through end-1\n",
    "a[:]         # a copy of the whole array\n",
    "```\n",
    "![image.png](attachment:image.png)"
   ]
  },
  {
   "cell_type": "code",
   "execution_count": null,
   "metadata": {},
   "outputs": [],
   "source": [
    "a = [1,2,3,4,5]\n",
    "\n",
    "print( a[1:3] ) # zwróci listę z elementami z indeksów między 1 a 2 włącznie\n",
    "print( a[2:] )  # zwróci elementy zaczynające się od indeksu 2 do końca listy\n",
    "print( a[:2] )  # zwróci elementy od początku listy do indeksu 1\n",
    "print( a[:] )  # zwróci kopię listy\n",
    "\n",
    "print( a[:-3] ) # lista od początku do końca bez ostatnich 3 elementów\n",
    "print( a[1:1] ) # zwróci pustą listę\n",
    "\n",
    "# mamy też do dyspozycji liczby ujemne, które możemy traktować jako indeksy \"od końca\"\n",
    "print( a[:-1] ) # lista od początku do końca bez ostatniego 1 elementu"
   ]
  },
  {
   "cell_type": "markdown",
   "metadata": {},
   "source": [
    "# Inne operacje na listach"
   ]
  },
  {
   "cell_type": "code",
   "execution_count": null,
   "metadata": {},
   "outputs": [],
   "source": [
    "# listy możemy też dodawać :)\n",
    "a = [1,2,3]\n",
    "b = [4,5]\n",
    "c = a+b\n",
    "print(c)"
   ]
  },
  {
   "cell_type": "code",
   "execution_count": null,
   "metadata": {},
   "outputs": [],
   "source": [
    "# listy możemy też mnożyć przez liczby (skoro dodawanie działa to mnożenie ma analogiczne działanie)\n",
    "# a*3 to jest to samo co a+a+a\n",
    "\n",
    "a = [1,3]\n",
    "print(a*5)"
   ]
  },
  {
   "cell_type": "code",
   "execution_count": null,
   "metadata": {},
   "outputs": [],
   "source": [
    "# sprawdzanie dlugości listy (tzn ilości elementów jakie zawiera)\n",
    "a = [1,5]\n",
    "print( len(a) )"
   ]
  },
  {
   "cell_type": "code",
   "execution_count": null,
   "metadata": {},
   "outputs": [],
   "source": [
    "# do listy możemy też dodawać elementy metodą\n",
    "# list.insert(index, obj)\n",
    "# https://www.tutorialspoint.com/python/list_insert.htm\n",
    "\n",
    "a = [0,1,2,3,4,5]\n",
    "print(a)\n",
    "\n",
    "a.insert(1, 100) # użycie metody insert zmienia listę a\n",
    "print(a)\n",
    "\n",
    "# oraz usuwać z niej elementy\n",
    "del a[1]\n",
    "print(a)"
   ]
  },
  {
   "cell_type": "code",
   "execution_count": null,
   "metadata": {},
   "outputs": [],
   "source": [
    "# możemy też sprawdzać czy dany element znajduje się na liście czy nie\n",
    "# do tego możemy użyć operatora in\n",
    "# EL in LIST, który zwraca True lub False\n",
    "a = [3,4,5]\n",
    "print( 3 in a )\n",
    "print( 5 in a )\n",
    "print( 6 in a )"
   ]
  },
  {
   "cell_type": "code",
   "execution_count": null,
   "metadata": {},
   "outputs": [],
   "source": [
    "# Listy możemy też porównywać (porównanie sprawdza czy elementy są równe)\n",
    "a = [3,4]\n",
    "b = [3,4]\n",
    "c = [4,5]\n",
    "print( a == b )\n",
    "print( a == c )\n",
    "print( b == c )"
   ]
  },
  {
   "cell_type": "markdown",
   "metadata": {},
   "source": [
    "To chyba wszystkie operacje (oprócz iteracji, o której napiszę za chwilę) których będziecie potrzebować na początku. \n",
    "Oczywiście nie musicie tego wszystkiego pamiętać, ważne jest zrozumienie co mniej więcej można z nimi robić i później możecie zawsze szukać w google np 'how to remove element from list python' :) Umiejętność szybkiego szukania takich rzeczy też jest bardzo ważna. Protip: dużo łatwiej znaleźć szukając po angielsku."
   ]
  },
  {
   "cell_type": "markdown",
   "metadata": {},
   "source": [
    "# Pętle\n",
    "Pętle służą do powtarzania instrukcji. Możemy je wykorzystać do powtarzania instrukcji dla każdego elementu listy. W pythonie pętle (typu `for`) mają następującą składnię:\n",
    "```\n",
    "for ELEMENT in KOLEKCJA:\n",
    "  instrukcja1\n",
    "  (...)\n",
    "  instrukcjaN\n",
    "```\n",
    "\n",
    "Dla ścisłości, to nie musi być tylko kolekcja, możemy iterować (przechodzić) po innych rzeczach niż kolekcje. Nie ma to jednak na początku wielkiego znaczenia, dla zainteresowanych:\n",
    "https://stackoverflow.com/questions/9884132/what-exactly-are-pythons-iterator-iterable-and-iteration-protocols\n"
   ]
  },
  {
   "cell_type": "code",
   "execution_count": null,
   "metadata": {},
   "outputs": [],
   "source": [
    "a = [1,2,3]\n",
    "for el in a:   # dla każdego elementu el w kolekcji a\n",
    "    print(el)  # wypisz el"
   ]
  },
  {
   "cell_type": "code",
   "execution_count": null,
   "metadata": {},
   "outputs": [],
   "source": [
    "# Policzymy sumę elementów w tablicy!\n",
    "a = [1,2,3,4,5,6]\n",
    "\n",
    "sum = 0            # deklarujemy zmienną sum o początkowej wartości 0\n",
    "for el in a:       # dla każdego el w a\n",
    "    sum = sum + el # powiększ sum o el\n",
    "print(sum)         # po wykonaniu pętli, wypisz wartość zmiennej sum"
   ]
  },
  {
   "cell_type": "code",
   "execution_count": null,
   "metadata": {},
   "outputs": [],
   "source": [
    "# jeżeli to było trochę zbyt magiczne..\n",
    "# dodajmy trochę printów które pokażą co się po kolei dzieje\n",
    "\n",
    "a = [1,2,3,4,5,6]\n",
    "sum = 0            \n",
    "for el in a:       \n",
    "    print('el={} sum={}'.format(el, sum))\n",
    "    sum = sum + el\n",
    "print(sum) \n",
    "\n",
    "# aby zbydować napis do wypisywania użyłem metody format\n",
    "# https://pyformat.info/"
   ]
  },
  {
   "cell_type": "code",
   "execution_count": null,
   "metadata": {},
   "outputs": [],
   "source": [
    "# gdy podczas iterowania po liście chcemy mieć dostęp do\n",
    "# indeksu aktualnego elementu możemy użyć funkcji enumerate\n",
    "for idx,el in enumerate([10,20,30,40]):\n",
    "  print(idx, el)"
   ]
  },
  {
   "cell_type": "markdown",
   "metadata": {},
   "source": [
    "# break, continue\n",
    "Mamy do dyspozycji dwa słowa kluczowe, które są pomocne przy używaniu pętli;\n",
    "* break - przerywa wykonywanie pętli\n",
    "* continue - przechodzi do kolejnego elementu kolekcji"
   ]
  },
  {
   "cell_type": "code",
   "execution_count": null,
   "metadata": {},
   "outputs": [],
   "source": [
    "# prykład break:\n",
    "# załóżmy, że nie mamy do dyspozycji operatora 'in'\n",
    "# i chcemy sprawdzić czy element 'x' znajduje się w liście\n",
    "\n",
    "a = [10, 1, 15, -5, 3, 8, 0, 10, 10]\n",
    "x = 10\n",
    "\n",
    "x_is_in_a = False\n",
    "for el in a:\n",
    "    if el == x:\n",
    "        x_is_in_a = True\n",
    "print(x_is_in_a)\n",
    "\n",
    "# jednak to nie jest do końca efektywne,\n",
    "# ponieważ pętla kontynuuje swoje wykonywanie i przechodzi po całej liście\n",
    "# nawet jak element już został znaleziony. Aby to usprawnić użyjemy break:\n",
    "\n",
    "x_is_in_a = False\n",
    "for el in a:\n",
    "    if el == x:\n",
    "        x_is_in_a = True\n",
    "        break    # !! kończymy wykonywanie pętli jak znajdziemy x\n",
    "print(x_is_in_a)"
   ]
  },
  {
   "cell_type": "code",
   "execution_count": null,
   "metadata": {},
   "outputs": [],
   "source": [
    "# przykład continue:\n",
    "# wypisywanie nieparzystych elementów listy\n",
    "\n",
    "a = [10, 1, 15, -5, 3, 8, 0, 10, 10]\n",
    "for el in a:\n",
    "    if el % 2 == 0:\n",
    "        continue\n",
    "    print(el)\n",
    "    \n",
    "# czy użycie continue tutaj było konieczne?"
   ]
  },
  {
   "cell_type": "markdown",
   "metadata": {},
   "source": [
    "# Pętla while\n",
    "Mamy do dyspozycji również inny rodzaj pętli: pętlę while. Służy ona do powtarzania wykonywania instrukcji dopóki pewnien warunek jest prawdziwy:\n",
    "\n",
    "```\n",
    "while WARUNEK:\n",
    "  instrukcja1\n",
    "  instrukcja2\n",
    "  (...)\n",
    "  instrukcjaN\n",
    "```"
   ]
  },
  {
   "cell_type": "code",
   "execution_count": null,
   "metadata": {},
   "outputs": [],
   "source": [
    "# znajdowanie najmniejszej potęgi dwójki większej od danej liczby\n",
    "\n",
    "x = 213\n",
    "res = 1\n",
    "\n",
    "while res <= x:\n",
    "    res *= 2  # to jest to samo co 'res = res * 2'\n",
    "print(res)"
   ]
  },
  {
   "cell_type": "markdown",
   "metadata": {},
   "source": [
    "# Range, repeat, join, lista znaków\n",
    "Możemy użyć funkcji range do iterowania się po danym zakresie liczb całkowitych.\n",
    "Możemy rozumieć range(a,b) jako listę a, a+1, ..., b-1 (chociaż lista ta nie jest tworzona, tzn range(0,10000) nie tworzy nam listy 10000 elementowej w pamięci)."
   ]
  },
  {
   "cell_type": "code",
   "execution_count": null,
   "metadata": {},
   "outputs": [],
   "source": [
    "for i in range(-2,3):\n",
    "    print(i)"
   ]
  },
  {
   "cell_type": "code",
   "execution_count": null,
   "metadata": {},
   "outputs": [],
   "source": [
    "for i in range(3):  # range(x) = range(0,x)\n",
    "    print(i)"
   ]
  },
  {
   "cell_type": "code",
   "execution_count": null,
   "metadata": {},
   "outputs": [],
   "source": [
    "# aby utworzyć listę złożoną z wielokrotnie powtórzonych tych samych elementów...\n",
    "a = [0]*10\n",
    "print(a)"
   ]
  },
  {
   "cell_type": "code",
   "execution_count": null,
   "metadata": {},
   "outputs": [],
   "source": [
    "# rozbijanie stringa na listę znaków\n",
    "s = 'alamakota'\n",
    "l = list(s)\n",
    "print(l)"
   ]
  },
  {
   "cell_type": "code",
   "execution_count": null,
   "metadata": {},
   "outputs": [],
   "source": [
    "# łączenie listy stringów w jednego strina używając join\n",
    "names = ['darek', 'marek', 'czarek', 'jurek']\n",
    "res = ' i '.join(names)\n",
    "print(res)"
   ]
  },
  {
   "cell_type": "code",
   "execution_count": null,
   "metadata": {},
   "outputs": [],
   "source": [
    "# jak zmienić znak w napisie\n",
    "s = 'arek'\n",
    "print(s)\n",
    "\n",
    "l = list(s)\n",
    "print(l)\n",
    "\n",
    "l[0] = 'x'\n",
    "print(l)\n",
    "\n",
    "s = ''.join(l) # join z pustym stringiem\n",
    "print(s)"
   ]
  },
  {
   "cell_type": "markdown",
   "metadata": {},
   "source": [
    "# Funkcje\n",
    "Aby nie powtarzać wielokrotnie tego samego kodu, możemy wydzielić go do oddzielnych funkcji.\n",
    "\n",
    "```\n",
    "def NAZWA_FUNKCJI(ARG1, ARG2, ...):\n",
    "  instrukcja1\n",
    "  instrukcja2\n",
    "  return REZULTAT\n",
    "```"
   ]
  },
  {
   "cell_type": "code",
   "execution_count": null,
   "metadata": {},
   "outputs": [],
   "source": [
    "def double_and_add_2(number):\n",
    "    print('computing result for {}...'.format(number))\n",
    "    return 2*number + 2\n",
    "\n",
    "print( double_and_add_2(0) )\n",
    "print( double_and_add_2(10) )\n",
    "print( double_and_add_2(50) )\n",
    "print( double_and_add_2(-5) )"
   ]
  },
  {
   "cell_type": "markdown",
   "metadata": {},
   "source": [
    "# Zadania\n",
    "Do każdego zadania dołączyłem zestaw testów, które pomogą Wam upewnić się, że wasze rozwiązanie jest poprawne."
   ]
  },
  {
   "cell_type": "code",
   "execution_count": null,
   "metadata": {},
   "outputs": [],
   "source": [
    "# Znajdowanie najwiekszego elementu\n",
    "\n",
    "import unittest\n",
    "\n",
    "# min_lst powinno zwrocic najwiekszy element w liscie lst\n",
    "# lst zawiera jedynie dodatnie liczby calkowite\n",
    "# w przypadku pustej listy min_lst powinno zwrocic -1\n",
    "def max_list(lst):\n",
    "    return -1\n",
    "\n",
    "# testy\n",
    "class TestMinList(unittest.TestCase):\n",
    "    def case(self, lst, res):\n",
    "        self.assertEqual(max_list(lst), res)\n",
    "    \n",
    "    def test_empty(self):\n",
    "        self.case([], -1)\n",
    "    \n",
    "    def test_single(self):\n",
    "        self.case([1], 1)\n",
    "        \n",
    "    def test_3el(self):\n",
    "        self.case([3,4,1], 4)\n",
    "        \n",
    "    def test_allsame(self):\n",
    "        self.case([3,3,3], 3)\n",
    "        \n",
    "    def test_ascending(self):\n",
    "        self.case([1,2,3,4,5,6], 6)\n",
    "        \n",
    "if __name__ == \"__main__\":\n",
    "    suite = unittest.defaultTestLoader.loadTestsFromTestCase(TestMinList)\n",
    "    unittest.TextTestRunner().run(suite)"
   ]
  },
  {
   "cell_type": "code",
   "execution_count": null,
   "metadata": {},
   "outputs": [],
   "source": [
    "# Test na pierwszość\n",
    "\n",
    "import unittest # biblioteka do testów jednostkowych \n",
    "\n",
    "# zwraca True wtw gdy x jest liczbą pierwszą\n",
    "def is_prime(x):\n",
    "    return True\n",
    "\n",
    "# testy\n",
    "class TestIsPrime(unittest.TestCase):\n",
    "    def case(self, num, res):\n",
    "        self.assertEqual(is_prime(num), res)\n",
    "    \n",
    "    def test_2(self):\n",
    "        self.case(2, True)\n",
    "    \n",
    "    def test_7(self):\n",
    "        self.case(7, True)\n",
    "        \n",
    "    def test_4(self):\n",
    "        self.case(4, False)\n",
    "        \n",
    "    def test_169(self):\n",
    "        self.case(169, False)\n",
    "        \n",
    "    def test_29(self):\n",
    "        self.case(29, True)\n",
    "    \n",
    "    def test_528(self):\n",
    "        self.case(528, False)\n",
    "        \n",
    "if __name__ == \"__main__\":\n",
    "    suite = unittest.defaultTestLoader.loadTestsFromTestCase(TestIsPrime)\n",
    "    unittest.TextTestRunner().run(suite)"
   ]
  },
  {
   "cell_type": "code",
   "execution_count": null,
   "metadata": {},
   "outputs": [],
   "source": [
    "# Palindrom\n",
    "\n",
    "import unittest # biblioteka do testów jednostkowych \n",
    "\n",
    "# zwraca True wtw gdy word jest palindromem\n",
    "def is_palindrom(word):\n",
    "    return True\n",
    "\n",
    "# testy\n",
    "class TestIsPalindrom(unittest.TestCase):\n",
    "    def case(self, word, res):\n",
    "        self.assertEqual(is_palindrom(word), res)\n",
    "    \n",
    "    def test_kajak(self):\n",
    "        self.case('kajak', True)\n",
    "    \n",
    "    def test_abaaba(self):\n",
    "        self.case('abaaba', True)\n",
    "        \n",
    "    def test_empty(self):\n",
    "        self.case('', True)\n",
    "        \n",
    "    def test_a(self):\n",
    "        self.case('a', True)\n",
    "        \n",
    "    def test_mama(self):\n",
    "        self.case('mama', False)\n",
    "    \n",
    "    def test_dwnauosjdwa(self):\n",
    "        self.case('dwnauosjdwa', False)\n",
    "        \n",
    "if __name__ == \"__main__\":\n",
    "    suite = unittest.defaultTestLoader.loadTestsFromTestCase(TestIsPalindrom)\n",
    "    unittest.TextTestRunner().run(suite)"
   ]
  },
  {
   "cell_type": "code",
   "execution_count": null,
   "metadata": {},
   "outputs": [],
   "source": [
    "# Sortowanie ograniczonych liczb\n",
    "\n",
    "import unittest # biblioteka do testów jednostkowych \n",
    "import random # biblioteka umożliwiająca losowanie\n",
    "\n",
    "max = 100\n",
    "\n",
    "# a - lista składająca się z elementów o wartościach z przedziału [0,max)\n",
    "# Zwróć listę składającą się z elementów a ustawionych w kolejności niemalejącej\n",
    "#\n",
    "# NIE UŻYWAJ GOTOWYCH FUNKCJI BIBLIOTECZNYCH DO SORTOWANIA (np sorted)\n",
    "#\n",
    "# przykład\n",
    "# a =  [0, 50, 10, 7, 0, 99]\n",
    "# out: [0, 0, 7, 10, 50, 99]\n",
    "def sort_bounded(a):\n",
    "    return [1,2,3]\n",
    "\n",
    "# testy\n",
    "class TestSortBounded(unittest.TestCase):\n",
    "    def case(self, list):\n",
    "        correct = sorted(list)\n",
    "        actual = sort_bounded(list[:])\n",
    "        self.assertListEqual(actual, correct)\n",
    "        \n",
    "    def test_same_list(self):\n",
    "        self.case([1,2])\n",
    "    \n",
    "    def test_empty_list(self):\n",
    "        self.case([])\n",
    "        \n",
    "    def test_small_list(self):\n",
    "        self.case([10,3])\n",
    "        \n",
    "    def test_small_list_with_repeats(self):\n",
    "        self.case([3, 10, 3, 3])\n",
    "        \n",
    "    def test_big_list(self):\n",
    "        self.case([0, 50, 10, 7, 0, 99])\n",
    "    \n",
    "    #def test_big_list2(self):\n",
    "    #    self.case([5]*1000000)\n",
    "        \n",
    "if __name__ == \"__main__\":\n",
    "    suite = unittest.defaultTestLoader.loadTestsFromTestCase(TestSortBounded)\n",
    "    unittest.TextTestRunner().run(suite)"
   ]
  }
 ],
 "metadata": {
  "kernelspec": {
   "display_name": "Python 3",
   "language": "python",
   "name": "python3"
  },
  "language_info": {
   "codemirror_mode": {
    "name": "ipython",
    "version": 3
   },
   "file_extension": ".py",
   "mimetype": "text/x-python",
   "name": "python",
   "nbconvert_exporter": "python",
   "pygments_lexer": "ipython3",
   "version": "3.6.4"
  }
 },
 "nbformat": 4,
 "nbformat_minor": 2
}
