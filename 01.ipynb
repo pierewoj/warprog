{
 "cells": [
  {
   "cell_type": "markdown",
   "metadata": {},
   "source": [
    "## Co to program komputerowy\n",
    "Program komputerowy to ciąg instrukcji, który opisuje sposób realizowania obliczeń przez komputer. Programy komputerowe można tworzyć przy użyciu różnych językach programowania. Jak nauczysz się programować w jednym z języków, nie powinieneś mieć większych trudności z nauką kolejnego. Na potrzeby tych warsztatów wybrałem język Python.\n"
   ]
  },
  {
   "cell_type": "markdown",
   "metadata": {},
   "source": [
    "## Pierwszy program\n",
    "Na tych warsztatach dla wygody będziemy korzystać z notatników Jupyter. Każdy notatnik jest to sekwencja komórek. Komórki mogą służyć do prezentowania tekstu (typ markdown) lub wykonywania kodu (typ code). Poniżej znajduje się komórka z pierwszym programem jaki uruchomisz. Aby uruchomić program należy kliknąć na komórkę i nacisnąć \"ctrl+enter\"."
   ]
  },
  {
   "cell_type": "code",
   "execution_count": null,
   "metadata": {},
   "outputs": [],
   "source": [
    "2"
   ]
  },
  {
   "cell_type": "markdown",
   "metadata": {},
   "source": [
    "Gratulację ;) Program który właśnie uruchomiłeś składał się z jednego wyrażenia - liczby. Spróbujmy może coś bardziej skomplikowanego:"
   ]
  },
  {
   "cell_type": "code",
   "execution_count": null,
   "metadata": {},
   "outputs": [],
   "source": [
    "3*4"
   ]
  },
  {
   "cell_type": "markdown",
   "metadata": {},
   "source": [
    "Oprócz mnożenia Python daje nam do dyspozycji także pozostałe działania oraz nawiasy (uwaga, możemy używać jedynie nawiasów okrągłych). Listę operacji możemy znaleźć tutaj (pod Python arithmetic operator): https://www.tutorialspoint.com/python/python_basic_operators.htm\n",
    "\n",
    "Zadanie: napisz wyrażenie,w którym policzysz pole powierzchni prostopadłościanu o bokach 7, 9, 13."
   ]
  },
  {
   "cell_type": "code",
   "execution_count": null,
   "metadata": {},
   "outputs": [],
   "source": [
    "# tu pisz"
   ]
  },
  {
   "cell_type": "markdown",
   "metadata": {},
   "source": [
    "Instrukcje mogą występować po sobie. Przy wykonywaniu komórki linie wykonywane są po kolei (najpierw linia numer 1, później linia nr 2 itd). W Jupyterze jako wynik komórki brana jest wartość ostatniego wyrażenia."
   ]
  },
  {
   "cell_type": "code",
   "execution_count": null,
   "metadata": {},
   "outputs": [],
   "source": [
    "2\n",
    "3*3\n",
    "42"
   ]
  },
  {
   "cell_type": "markdown",
   "metadata": {},
   "source": [
    "Co jeżeli chcielibyśmy wypisać pozostałe wartości bez tworzenia kolejnych komórek? Pomoże nam w tym funkcja `print`! W Pythonie argumenty funkcji (w tym przypadku rzecz którą chcialibyśmy wypisać) przekazujemy w nawiasach."
   ]
  },
  {
   "cell_type": "code",
   "execution_count": null,
   "metadata": {
    "scrolled": true
   },
   "outputs": [],
   "source": [
    "print(2)\n",
    "print(3*3)\n",
    "print(42)"
   ]
  },
  {
   "cell_type": "markdown",
   "metadata": {},
   "source": [
    "Kolejną rzecz jaką chcielibyśmy posiadać w swoim przyborniku są komentarze. Komentarz jest to napis który możemy umieścić w naszym kodzie, który nie wpływa na działanie programu. Komentarze w pythonie tworzymy przy użyciu symbolu #. Cokolwiek w danej linijce znajduje się po tym symbolu, jest komentarzem."
   ]
  },
  {
   "cell_type": "code",
   "execution_count": null,
   "metadata": {},
   "outputs": [],
   "source": [
    "print(2) # to jest komentarz\n",
    "# print(4) no i to też"
   ]
  },
  {
   "cell_type": "markdown",
   "metadata": {},
   "source": [
    "## Zmienne (ang. variables)\n",
    "Jedną z rzeczy, która bardzo często przydaje się w programu jest możliwość zapisania jakiegoś wyniku w pamięci i następnie odwoływanie się do niego w czasie działania programu. Zmienną tworzy się w pythonie poprzez przypisanie jej jakiejś wartości początkowej."
   ]
  },
  {
   "cell_type": "code",
   "execution_count": null,
   "metadata": {},
   "outputs": [],
   "source": [
    "a = 3  # tworzymy zmienną o nazwie 'a' i przypisujemy jej wartość 3\n",
    "print(a) # teraz możemy się do tej wartości odwoływać"
   ]
  },
  {
   "cell_type": "markdown",
   "metadata": {},
   "source": [
    "Zmienne mogą być również elementami wyrażeń, wartość wyrażenia będzie taka jakbyśmy zamiast nazwy zmiennej podstawili jej wartość."
   ]
  },
  {
   "cell_type": "code",
   "execution_count": null,
   "metadata": {
    "scrolled": true
   },
   "outputs": [],
   "source": [
    "five = 5\n",
    "print(five + (five * five) + 12)"
   ]
  },
  {
   "cell_type": "markdown",
   "metadata": {},
   "source": [
    "Cechą zmiennych jest to, że ich wartości mogą się zmieniać. Pamiętaj że program wykonuje się linijka po linijce, zaczynając od góry."
   ]
  },
  {
   "cell_type": "code",
   "execution_count": null,
   "metadata": {},
   "outputs": [],
   "source": [
    "b = 8    # tworzymy zmienną o nazwie b i przypisujemy jej wartość 8\n",
    "print(b)\n",
    "b = 9    # zmieniamy wartość zmiennej b na 9\n",
    "print(b)"
   ]
  },
  {
   "cell_type": "markdown",
   "metadata": {},
   "source": [
    "## Nie tylko liczby!\n",
    "Ok! Czas poznać drugi typ wartości! Znasz już całkiem dobrze liczby i wiesz co można z nimi robić (wypisywać na ekran, dodawać, mnożyć, zapamiętywać). Teraz czas na kolejny typ wartości: typ logiczny (ang. boolean). Wartość, która ma typ logiczny może mieć tylko jedną wartość:\n",
    "* True (prawda),\n",
    "lub\n",
    "* False (fałsz)\n",
    "\n",
    "Zmienne z wartościami logicznymi możemy tworzyć tak samo łatwo jak w przypadku wartości liczbowych :)"
   ]
  },
  {
   "cell_type": "code",
   "execution_count": null,
   "metadata": {},
   "outputs": [],
   "source": [
    "mary_is_nice = True\n",
    "print(mary_is_nice)"
   ]
  },
  {
   "cell_type": "markdown",
   "metadata": {},
   "source": [
    "Co jednak z takimi wartościami możemy robić? Jak takich wartości możemy użyć do obliczeń? Trzy operatory logiczne:\n",
    "* `and`\n",
    "* `or`\n",
    "* `not`"
   ]
  },
  {
   "cell_type": "code",
   "execution_count": null,
   "metadata": {},
   "outputs": [],
   "source": [
    "john_has_money = True\n",
    "john_is_pretty = False\n",
    "john_will_find_wife = john_has_money and john_is_pretty  # and działa jak 'i'\n",
    "print(john_will_find_wife)"
   ]
  },
  {
   "cell_type": "code",
   "execution_count": null,
   "metadata": {},
   "outputs": [],
   "source": [
    "mary_is_healthy = False\n",
    "mary_has_homework = False\n",
    "mary_goes_to_school = mary_is_healthy or mary_has_homework  # or działa jak 'lub'\n",
    "print(mary_goes_to_school)"
   ]
  },
  {
   "cell_type": "code",
   "execution_count": null,
   "metadata": {},
   "outputs": [],
   "source": [
    "c = True\n",
    "d = not c  # not to zaprzeczenie\n",
    "print(d)"
   ]
  },
  {
   "cell_type": "markdown",
   "metadata": {},
   "source": [
    "## Porównywanie liczb\n",
    "Często w programie potrzebujemy porównywać dwie liczby. Wynikiem porównywania są wartości logiczne (czyli True albo False), o których pisałem kilka linijek wyżej. Mamy do dyspozycji następujące porównania:\n",
    "* `a == b` - sprawdza czy dwie liczby są równe\n",
    "* `a != b` - sprawdza czy dwie liczby sie róznia\n",
    "* `a < b` - sprawdza czy a jest mniejsze od b\n",
    "* `a <= b` - sprawdza czy a jest mniejsze lub równe b\n",
    "* `a > b` - sprawdza czy a jest wieksze od b\n",
    "* `a >= b` - sprawda czy a jest wieksze lub rowne b"
   ]
  },
  {
   "cell_type": "code",
   "execution_count": null,
   "metadata": {},
   "outputs": [],
   "source": [
    "a = 5\n",
    "b = 6\n",
    "print(a < b)"
   ]
  },
  {
   "cell_type": "code",
   "execution_count": null,
   "metadata": {},
   "outputs": [],
   "source": [
    "# Zadanie\n",
    "# co zostanie wypisane na ekran po wynonaniu tej komórki?\n",
    "a = 2\n",
    "b = 1\n",
    "print(a <= b)\n",
    "print(a != b)\n",
    "print(not(a == b))\n",
    "print((a < b) or (a > b))"
   ]
  },
  {
   "cell_type": "markdown",
   "metadata": {},
   "source": [
    "## Instrukcje warunkowe\n",
    "Ostatnim narzędziem jakie zaprezentuję w tym notatniku są instrukcje warunkowe. Pozwalają one na wykonanie jednej lub wielu instrukcji tylko gdy dany warunek jest spełniony. Składnia tej instrukcji jest następująca:\n",
    "\n",
    "```\n",
    "if warunek:   # jeżeli warunkek jest spełniony (True)\n",
    "  instrukcja1\n",
    "  instrukcja2\n",
    "else:         # jeżeli warunek nie jest spełniony (False)\n",
    "  instrukcja3\n",
    "  instrukcja4\n",
    "```\n",
    "Lub gdy chcemy dać drugi warunek do spełnienia, jesli pierwszy nie został spełniony:\n",
    "```\n",
    "if warunek:   # jeżeli warunkek jest spełniony (True)\n",
    "  instrukcja1\n",
    "  instrukcja2\n",
    "elif warunek2: # instrukcja3 i instrukcja 4 się wykonją, jeżeli warunek1=False i warunek2-True\n",
    "  instrukcja3\n",
    "  instrukcja4\n",
    "```\n",
    "\n",
    "Ważne w tym przypadku są wcięcia - to one są używane w pythonie do zaznaczania która część jest wykonywana tylko kiedy warunek jest spełniony.\n",
    "\n",
    "Część else jest opcjonalna."
   ]
  },
  {
   "cell_type": "code",
   "execution_count": null,
   "metadata": {},
   "outputs": [],
   "source": [
    "# W tym przykładnie mamy jedną instrukcję warunkową \n",
    "# skłądającą się z części wykonywanej tylko gdy warunek jest spełniony\n",
    "# (wewnątrz if) oraz części która jest wykonywana tylko gdy warunek\n",
    "# nie jest spełniony (wewnątrz else).\n",
    "# Spróbuj pozmieniać wartość a i sprawdź co zostanie\n",
    "# wypisane na ekran.\n",
    "a = 1\n",
    "if a >= 0:\n",
    "    print('a jest wieksze rowne 0')\n",
    "else:\n",
    "    print('a jest ujemne')"
   ]
  },
  {
   "cell_type": "code",
   "execution_count": null,
   "metadata": {},
   "outputs": [],
   "source": [
    "# W tym przykładzie mamy 3 oddzielne instrukcje warunkowe.\n",
    "# Spróbuj pozmieniać wartości a i b i sprawdzić co\n",
    "# zostanie wypisane na ekran :)\n",
    "a = 1\n",
    "b = 2\n",
    "\n",
    "if a < b:\n",
    "  # instrukcje z tym wcieciem wykonaja sie tylko gdy a < b jest\n",
    "  # spełnione\n",
    "  print('a jest mniejsze')\n",
    "\n",
    "if a > b:\n",
    "  print('a jest wieksze')\n",
    "\n",
    "if a == b:\n",
    "  print('a jest rowne')"
   ]
  },
  {
   "cell_type": "markdown",
   "metadata": {},
   "source": [
    "## Sortowanie dwóch liczb\n"
   ]
  },
  {
   "cell_type": "code",
   "execution_count": null,
   "metadata": {},
   "outputs": [],
   "source": [
    "# Napisz program, który weźmie dwie liczby i wypisze je\n",
    "# w rosnącej kolejności\n",
    "\n",
    "x = -2\n",
    "y = 5\n",
    "\n",
    "\n",
    "# tutaj napisz swój program, przetestuj go dla różnych wartości x i y\n",
    "# dla x=2 y=1 powinien wypisać:\n",
    "#   1\n",
    "#   2\n",
    "#\n",
    "# dla x=5 y=8 powinien wypisać:\n",
    "#   5\n",
    "#   8"
   ]
  },
  {
   "cell_type": "markdown",
   "metadata": {},
   "source": [
    "## Nierówność trójkąta"
   ]
  },
  {
   "cell_type": "code",
   "execution_count": null,
   "metadata": {},
   "outputs": [],
   "source": [
    "# Napisz program który sprawdzi czy z 3 odcinków \n",
    "# o długościach a,b,c można utworzyć trójkąt.\n",
    "# Może przydać ci się tutaj znajomość nierówności trójkąta:\n",
    "# http://matematyka.pisz.pl/strona/493.html\n",
    "\n",
    "a = 5\n",
    "b = 3\n",
    "c = 4\n",
    "\n",
    "# tutaj napisz swój program, przetestuj go dla różnych wartości a,b,c\n",
    "# powinien on wypisać True gdy z odcinków można \n",
    "# utworzyć trójkąt, w przeciwnym wypadku False\n"
   ]
  }
 ],
 "metadata": {
  "kernelspec": {
   "display_name": "Python 3",
   "language": "python",
   "name": "python3"
  },
  "language_info": {
   "codemirror_mode": {
    "name": "ipython",
    "version": 3
   },
   "file_extension": ".py",
   "mimetype": "text/x-python",
   "name": "python",
   "nbconvert_exporter": "python",
   "pygments_lexer": "ipython3",
   "version": "3.6.4"
  }
 },
 "nbformat": 4,
 "nbformat_minor": 2
}
