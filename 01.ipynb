{
 "cells": [
  {
   "cell_type": "markdown",
   "metadata": {},
   "source": [
    "## Co to program komputerowy\n",
    "Program komputerowy to ciąg instrukcji, który opisuje sposób realizowania obliczeń przez komputer. Programy komputerowe można tworzyć przy użyciu różnych językach programowania. Jak nauczysz się programować w jednym z języków, nie powinieneś mieć większych trudności z nauką kolejnego. Na potrzeby tych warsztatów wybrałem język Python.\n"
   ]
  },
  {
   "cell_type": "markdown",
   "metadata": {},
   "source": [
    "## Pierwszy program\n",
    "Na tych warsztatach dla wygody będziemy korzystać z notatników Jupyter. Każdy notatnik jest to sekwencja komórek. Komórki mogą służyć do prezentowania tekstu (typ markdown) lub wykonywania kodu (typ code). Poniżej znajduje się komórka z pierwszym programem jaki uruchomisz. Aby uruchomić program należy kliknąć na komórkę i nacisnąć \"ctrl+enter\"."
   ]
  },
  {
   "cell_type": "code",
   "execution_count": 4,
   "metadata": {},
   "outputs": [
    {
     "data": {
      "text/plain": [
       "2"
      ]
     },
     "execution_count": 4,
     "metadata": {},
     "output_type": "execute_result"
    }
   ],
   "source": [
    "2"
   ]
  },
  {
   "cell_type": "markdown",
   "metadata": {},
   "source": [
    "Gratulację ;) Program który właśnie uruchomiłeś składał się z jednego wyrażenia - liczby. Spróbujmy może coś bardziej skomplikowanego:"
   ]
  },
  {
   "cell_type": "code",
   "execution_count": 9,
   "metadata": {},
   "outputs": [
    {
     "data": {
      "text/plain": [
       "12"
      ]
     },
     "execution_count": 9,
     "metadata": {},
     "output_type": "execute_result"
    }
   ],
   "source": [
    "3*4"
   ]
  },
  {
   "cell_type": "markdown",
   "metadata": {},
   "source": [
    "Oprócz mnożenia, Python daje nam do dyspozycji także pozostałe działania oraz nawiasy (uwaga, możemy używać jedynie nawiasów okrągłych). Listę operacji możemy znaleźć tutaj (pod Python arithmetic operator): https://www.tutorialspoint.com/python/python_basic_operators.htm\n",
    "\n",
    "Zadanie: napisz wyrażenie w którym policzysz pole powierzchni prostopadłościanu o bokach 7, 9, 13."
   ]
  },
  {
   "cell_type": "code",
   "execution_count": null,
   "metadata": {},
   "outputs": [],
   "source": [
    "# pisz tutaj"
   ]
  },
  {
   "cell_type": "markdown",
   "metadata": {},
   "source": [
    "Instrukcje mogą występować po sobie. Przy wykonywaniu komórki linie wykonywane są po kolei (najpierw linia numer 1, później linia nr 2 itd). W Jupyterze jako wynik komórki brana jest wartość ostatniego wyrażenia."
   ]
  },
  {
   "cell_type": "code",
   "execution_count": 8,
   "metadata": {},
   "outputs": [
    {
     "data": {
      "text/plain": [
       "42"
      ]
     },
     "execution_count": 8,
     "metadata": {},
     "output_type": "execute_result"
    }
   ],
   "source": [
    "2\n",
    "3*3\n",
    "42"
   ]
  },
  {
   "cell_type": "markdown",
   "metadata": {},
   "source": [
    "Co jeżeli chcielibyśmy wypisać pozostałe wartości bez tworzenia kolejnych komórek? Pomoże nam w tym funkcja `print`! W Pythonie argumenty funckji (w tym przypadku rzecz którą chcialibyśmy wypisać) przekazujemy w nawiasach."
   ]
  },
  {
   "cell_type": "code",
   "execution_count": 13,
   "metadata": {
    "scrolled": true
   },
   "outputs": [
    {
     "name": "stdout",
     "output_type": "stream",
     "text": [
      "2\n",
      "9\n",
      "42\n"
     ]
    }
   ],
   "source": [
    "print(2)\n",
    "print(3*3)\n",
    "print(42)"
   ]
  },
  {
   "cell_type": "markdown",
   "metadata": {},
   "source": [
    "Kolejną rzecz jaką chcielibyśmy posiadać w swoim przyborniku są komentarze. Komentarz jest to napis który możemy umieścić w naszym kodzie, który nie wpływa na działanie programu. Komentarze w pythonie tworzymy przy użyciu symbolu #. Cokolwiek w danej linijce znajduje się po tym symbolu, jest komentarzem."
   ]
  },
  {
   "cell_type": "code",
   "execution_count": 14,
   "metadata": {},
   "outputs": [
    {
     "name": "stdout",
     "output_type": "stream",
     "text": [
      "2\n"
     ]
    }
   ],
   "source": [
    "print(2) #to jest komentarz\n",
    "#print(4) no i to też"
   ]
  },
  {
   "cell_type": "markdown",
   "metadata": {},
   "source": [
    "## Zmienne (ang. variables)\n",
    "Jedną z rzeczy, która bardzo często przydaje się w programu jest możliwość zapisania jakiegoś wyniku w pamięci i następnie odwoływanie się do niego w czasie działania programu. Zmienną tworzy się w pythonie poprzez przypisanie jej jakiejś wartości początkowej."
   ]
  },
  {
   "cell_type": "code",
   "execution_count": 16,
   "metadata": {},
   "outputs": [
    {
     "name": "stdout",
     "output_type": "stream",
     "text": [
      "3\n"
     ]
    }
   ],
   "source": [
    "a = 3  # tworzymy zmienną o nazwie 'a' i przypisujemy jej wartość 3\n",
    "print(a) # teraz możemy się do tej wartości odwoływać"
   ]
  },
  {
   "cell_type": "markdown",
   "metadata": {},
   "source": [
    "Zmienne mogą być również elementami wyrażeń, wartość wyrażenia będzie taka jakbyśmy zamiast nazwy zmiennej podstawili jej wartość."
   ]
  },
  {
   "cell_type": "code",
   "execution_count": 20,
   "metadata": {
    "scrolled": true
   },
   "outputs": [
    {
     "name": "stdout",
     "output_type": "stream",
     "text": [
      "42\n"
     ]
    }
   ],
   "source": [
    "five = 5\n",
    "print(five + (five * five) + 12)"
   ]
  },
  {
   "cell_type": "markdown",
   "metadata": {},
   "source": [
    "Cechą zmiennych jest to, że ich wartości mogą się zmieniać. Pamiętaj że program wykonuje się linijka po linijce, zaczynając od góry."
   ]
  },
  {
   "cell_type": "code",
   "execution_count": 21,
   "metadata": {},
   "outputs": [
    {
     "name": "stdout",
     "output_type": "stream",
     "text": [
      "8\n",
      "9\n"
     ]
    }
   ],
   "source": [
    "b = 8    # tworzymy zmienną o nazwie b i przypisujemy jej wartość 8\n",
    "print(b)\n",
    "b = 9    # zmieniamy wartość zmiennej b na 9\n",
    "print(b)"
   ]
  },
  {
   "cell_type": "markdown",
   "metadata": {},
   "source": [
    "## Nie tylko liczby!\n",
    "Ok! Czas poznać drugi typ wartości! Znasz już całkiem dobrze liczby i wiesz co można z nimi robić (wypisywać na ekran, dodawać, mnożyć, zapamiętywać). Teraz czas na kolejny typ wartości: typ logiczny (ang. boolean). Wartość, która ma typ logiczny może mieć tylko jedną wartość:\n",
    "* True (prawda)\n",
    "lub\n",
    "* False (fałsz)\n",
    "\n",
    "Zmienne z wartościami logicznymi możemy tworzyć tak samo łatwo jak w przypadku wartości liczbowych :)"
   ]
  },
  {
   "cell_type": "code",
   "execution_count": 25,
   "metadata": {},
   "outputs": [
    {
     "name": "stdout",
     "output_type": "stream",
     "text": [
      "True\n"
     ]
    }
   ],
   "source": [
    "mary_is_nice = True\n",
    "print(mary_is_nice)"
   ]
  },
  {
   "cell_type": "markdown",
   "metadata": {},
   "source": [
    "Co jednak z takimi wartościami możemy robić? Jak takich wartości możemy uzyć do obliczeń? Trzy operatory logiczne:\n",
    "* and\n",
    "* or\n",
    "* not"
   ]
  },
  {
   "cell_type": "code",
   "execution_count": 32,
   "metadata": {},
   "outputs": [
    {
     "name": "stdout",
     "output_type": "stream",
     "text": [
      "False\n"
     ]
    }
   ],
   "source": [
    "john_has_money = True\n",
    "john_is_pretty = False\n",
    "john_will_find_wife = john_has_money and john_is_pretty  # and działa jak 'i'\n",
    "print(john_will_find_wife)"
   ]
  },
  {
   "cell_type": "code",
   "execution_count": 31,
   "metadata": {},
   "outputs": [
    {
     "name": "stdout",
     "output_type": "stream",
     "text": [
      "False\n"
     ]
    }
   ],
   "source": [
    "mary_is_healthy = False\n",
    "mary_has_homework = False\n",
    "mary_goes_to_school = mary_is_healthy or mary_has_homework  # or działa jak 'lub'\n",
    "print(mary_goes_to_school)"
   ]
  },
  {
   "cell_type": "code",
   "execution_count": 33,
   "metadata": {},
   "outputs": [
    {
     "name": "stdout",
     "output_type": "stream",
     "text": [
      "False\n"
     ]
    }
   ],
   "source": [
    "c = True\n",
    "d = not c  # not to zaprzeczenie\n",
    "print(d)"
   ]
  }
 ],
 "metadata": {
  "kernelspec": {
   "display_name": "Python 3",
   "language": "python",
   "name": "python3"
  },
  "language_info": {
   "codemirror_mode": {
    "name": "ipython",
    "version": 3
   },
   "file_extension": ".py",
   "mimetype": "text/x-python",
   "name": "python",
   "nbconvert_exporter": "python",
   "pygments_lexer": "ipython3",
   "version": "3.4.7"
  }
 },
 "nbformat": 4,
 "nbformat_minor": 2
}
