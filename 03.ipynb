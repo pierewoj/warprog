{
 "cells": [
  {
   "cell_type": "markdown",
   "metadata": {},
   "source": [
    "# Zajęcia 3\n",
    "Poprzednio:\n",
    "* listy\n",
    "* napisy\n",
    "* pętle while i for\n",
    "* range, slice notation\n",
    "* 4 dość trudne zadania\n",
    "\n",
    "Dziś:\n",
    "* omównienie poprzednich zadań\n",
    "* jak ocenić \"szybkość\" algorytmu? złożoność obliczeniowa\n",
    "* rekurencja\n"
   ]
  },
  {
   "cell_type": "markdown",
   "metadata": {},
   "source": [
    "# Złożoność obliczeniowa\n",
    "https://pl.wikipedia.org/wiki/Asymptotyczne_tempo_wzrostu#Rz%C4%85d_z%C5%82o%C5%BCono%C5%9Bci_obliczeniowej"
   ]
  },
  {
   "cell_type": "code",
   "execution_count": 41,
   "metadata": {},
   "outputs": [
    {
     "name": "stderr",
     "output_type": "stream",
     "text": [
      ".......\n",
      "----------------------------------------------------------------------\n",
      "Ran 7 tests in 0.007s\n",
      "\n",
      "OK\n"
     ]
    }
   ],
   "source": [
    "# sprawdzanie czy ciag jest posortowany\n",
    "\n",
    "import unittest\n",
    "\n",
    "# is_sorted powinno zwrocic True w przypadku gdy lst jest\n",
    "# posortowana rosnąco, False w przeciwnym wypadku.\n",
    "# lst zawiera jedynie dodatnie liczby całkowite.\n",
    "# dla listy pustej, is_sorted powinno zwrócić True.\n",
    "def is_sorted(lst):\n",
    "    prev = -1\n",
    "    for el in lst:\n",
    "        if el < prev:\n",
    "            return False\n",
    "        prev = el\n",
    "    return True\n",
    "\n",
    "def is_sorted_2(lst):\n",
    "    n = len(lst)\n",
    "    for i in range(n):\n",
    "        for j in range(n):\n",
    "            if i < j and lst[i] > lst[j]:\n",
    "                return False\n",
    "    return True\n",
    "\n",
    "# testy\n",
    "class TestIsSorted(unittest.TestCase):\n",
    "    def case(self, lst, res):\n",
    "        self.assertEqual(is_sorted(lst), res)\n",
    "    \n",
    "    def test_empty(self):\n",
    "        self.case([], True)\n",
    "    \n",
    "    def test_single(self):\n",
    "        self.case([1], True)\n",
    "        \n",
    "    def test_3el(self):\n",
    "        self.case([3,4,1], False)\n",
    "        \n",
    "    def test_allsame(self):\n",
    "        self.case([3,3,3], True)\n",
    "        \n",
    "    def test_ascending(self):\n",
    "        self.case([1,2,3,4,5,6], True)\n",
    "        \n",
    "    def test_lastsmaller(self):\n",
    "        self.case([1,2,3,4,5,6,5], False)\n",
    "        \n",
    "    def test_large(self):\n",
    "        self.case([1]*5000, True)\n",
    "        \n",
    "if __name__ == \"__main__\":\n",
    "    suite = unittest.defaultTestLoader.loadTestsFromTestCase(TestIsSorted)\n",
    "    unittest.TextTestRunner().run(suite)"
   ]
  },
  {
   "cell_type": "markdown",
   "metadata": {},
   "source": [
    "# Rekurencja"
   ]
  },
  {
   "cell_type": "code",
   "execution_count": 47,
   "metadata": {},
   "outputs": [
    {
     "data": {
      "text/plain": [
       "720"
      ]
     },
     "execution_count": 47,
     "metadata": {},
     "output_type": "execute_result"
    }
   ],
   "source": [
    "# factorial - silnia\n",
    "# napisz program, który policzy n!\n",
    "# n! = 1 * 2 * ... * (n-1) * n\n",
    "# np 6! = 1 * 2 * 3 * 4 * 5 * 6 = 720\n",
    "def factorial(n):\n",
    "    if n == 0:\n",
    "        return 1\n",
    "    return n * factorial(n-1)\n",
    "\n",
    "factorial(6)"
   ]
  },
  {
   "cell_type": "code",
   "execution_count": 44,
   "metadata": {},
   "outputs": [
    {
     "data": {
      "text/plain": [
       "1"
      ]
     },
     "execution_count": 44,
     "metadata": {},
     "output_type": "execute_result"
    }
   ],
   "source": [
    "# napisz program który policzy n-ty element ciągu fibonacciego\n",
    "# https://pl.wikipedia.org/wiki/Ci%C4%85g_Fibonacciego\n",
    "# fib(0) = 0\n",
    "# fib(1) = 1\n",
    "# fib(n) = fib(n-1) + fib(n-2), dla n >= 2\n",
    "def fib(n):\n",
    "    # todo\n",
    "    return 1\n",
    "\n",
    "# dla jakiej wartości n twój program zaczyna działać wolno? dlaczego?\n",
    "\n",
    "fib(31)"
   ]
  },
  {
   "cell_type": "code",
   "execution_count": 43,
   "metadata": {},
   "outputs": [
    {
     "data": {
      "text/plain": [
       "4181"
      ]
     },
     "execution_count": 43,
     "metadata": {},
     "output_type": "execute_result"
    }
   ],
   "source": [
    "def fib_fast(n):\n",
    "    a = 0\n",
    "    b = 1\n",
    "    for i in range(2,n+1):\n",
    "        tmp = a + b\n",
    "        a = b\n",
    "        b = tmp\n",
    "    return b\n",
    "\n",
    "fib_fast(19)"
   ]
  },
  {
   "cell_type": "markdown",
   "metadata": {},
   "source": [
    "# Wyszukiwanie binarne\n",
    "https://pl.wikipedia.org/wiki/Wyszukiwanie_binarne"
   ]
  },
  {
   "cell_type": "code",
   "execution_count": 9,
   "metadata": {},
   "outputs": [
    {
     "name": "stdout",
     "output_type": "stream",
     "text": [
      "False\n"
     ]
    }
   ],
   "source": [
    "def bin_search_rec(lst,a,b,x):\n",
    "    m = (a+b)//2\n",
    "    if not a <= b:\n",
    "        return False\n",
    "    val = lst[m]\n",
    "    if val == x:\n",
    "        return True\n",
    "    if x < val:\n",
    "        return bin_search_rec(lst,a,m-1,x)\n",
    "    if val < x:\n",
    "        return bin_search_rec(lst,m+1,b,x)\n",
    "    \n",
    "def bin_search(lst,x):\n",
    "    return bin_search_rec(lst,0,len(lst)-1,x)\n",
    "\n",
    "print(bin_search([1,2,3,5],4))"
   ]
  }
 ],
 "metadata": {
  "kernelspec": {
   "display_name": "Python 3",
   "language": "python",
   "name": "python3"
  },
  "language_info": {
   "codemirror_mode": {
    "name": "ipython",
    "version": 3
   },
   "file_extension": ".py",
   "mimetype": "text/x-python",
   "name": "python",
   "nbconvert_exporter": "python",
   "pygments_lexer": "ipython3",
   "version": "3.6.4"
  }
 },
 "nbformat": 4,
 "nbformat_minor": 2
}
