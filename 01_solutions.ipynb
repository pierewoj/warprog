{
 "cells": [
  {
   "cell_type": "markdown",
   "metadata": {},
   "source": [
    "## Sortowanie dwóch liczb\n"
   ]
  },
  {
   "cell_type": "code",
   "execution_count": 1,
   "metadata": {},
   "outputs": [
    {
     "name": "stdout",
     "output_type": "stream",
     "text": [
      "-2\n",
      "5\n"
     ]
    }
   ],
   "source": [
    "# Napisz program, który weźmie dwie liczby i wypisze je\n",
    "# w rosnącej kolejności\n",
    "\n",
    "x = -2\n",
    "y = 5\n",
    "\n",
    "if x < y:\n",
    "    print(x)\n",
    "    print(y)\n",
    "else: \n",
    "    print(y)\n",
    "    print(x)\n",
    "\n",
    "# tutaj napisz swój program, przetestuj go dla różnych wartości x i y\n",
    "# dla x=2 y=1 powinien wypisać:\n",
    "#   1\n",
    "#   2\n",
    "#\n",
    "# dla x=5 y=8 powinien wypisać:\n",
    "#   5\n",
    "#   8"
   ]
  },
  {
   "cell_type": "markdown",
   "metadata": {},
   "source": [
    "## Nierówność trójkąta"
   ]
  },
  {
   "cell_type": "code",
   "execution_count": 4,
   "metadata": {},
   "outputs": [
    {
     "data": {
      "text/plain": [
       "True"
      ]
     },
     "execution_count": 4,
     "metadata": {},
     "output_type": "execute_result"
    }
   ],
   "source": [
    "# Napisz program który sprawdzi czy z 3 odcinków \n",
    "# o długościach a,b,c można utworzyć trójkąt.\n",
    "# Może przydać ci się tutaj znajomość nierówności trójkąta:\n",
    "# http://matematyka.pisz.pl/strona/493.html\n",
    "\n",
    "a = 5\n",
    "b = 3\n",
    "c = 4\n",
    "\n",
    "(a + b > c) and (a + c > b) and (b + c > a)\n",
    "\n",
    "# tutaj napisz swój program, przetestuj go dla różnych wartości a,b,c\n",
    "# powinien on wypisać True gdy z odcinków można \n",
    "# utworzyć trójkąt, w przeciwnym wypadku False\n"
   ]
  }
 ],
 "metadata": {
  "kernelspec": {
   "display_name": "Python 3",
   "language": "python",
   "name": "python3"
  },
  "language_info": {
   "codemirror_mode": {
    "name": "ipython",
    "version": 3
   },
   "file_extension": ".py",
   "mimetype": "text/x-python",
   "name": "python",
   "nbconvert_exporter": "python",
   "pygments_lexer": "ipython3",
   "version": "3.6.4"
  }
 },
 "nbformat": 4,
 "nbformat_minor": 2
}
